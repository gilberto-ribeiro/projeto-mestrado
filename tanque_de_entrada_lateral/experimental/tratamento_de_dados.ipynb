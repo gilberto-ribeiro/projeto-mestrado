{
 "cells": [
  {
   "cell_type": "code",
   "execution_count": 353,
   "metadata": {},
   "outputs": [],
   "source": [
    "import csv\n",
    "import re\n",
    "import numpy as np\n",
    "from datetime import datetime, timedelta\n",
    "import matplotlib.pyplot as plt\n",
    "\n",
    "\n",
    "def remover_tempo_morto(dados_do_eletrodo):\n",
    "    condutividade_inicial = [cn for cn in dados_do_eletrodo['condutividade_normalizada'] if abs(cn) <= 1e-2]\n",
    "    pontos_removidos = len(condutividade_inicial)\n",
    "    tempo = dados_do_eletrodo['tempo'][:-pontos_removidos]\n",
    "    condutividade_normalizada = dados_do_eletrodo['condutividade_normalizada'][pontos_removidos:]\n",
    "    return tempo, condutividade_normalizada\n",
    "\n",
    "def logaritmo_da_variancia(dados_do_caso):\n",
    "    numero_de_pontos = min([len(eletrodo['condutividade_normalizada']) for eletrodo in dados_do_caso.values()])\n",
    "    pontos = [eletrodo['tempo'] for eletrodo in dados_do_caso.values()][0][0:numero_de_pontos]\n",
    "    log_var = [list((np.array(eletrodo['condutividade_normalizada'][0:numero_de_pontos]) - 1)**2) for eletrodo in dados_do_caso.values()]\n",
    "    log_var = list(np.log10(np.mean(np.array(log_var), axis=0)))\n",
    "    return (pontos, log_var)\n",
    "\n",
    "def obter_dados(casos, eletrodos, tempo_morto = False):\n",
    "    dados_dos_casos = dict()\n",
    "    for caso in casos:\n",
    "        dados_do_caso = dict()\n",
    "        for eletrodo in eletrodos:\n",
    "            prefixo_eletrodo = re.search('caso_\\d+_', caso).group()\n",
    "            nome_do_arquivo = f'dados_do_condutivimetro/{caso}/{prefixo_eletrodo}{eletrodo}.csv'\n",
    "            with open(nome_do_arquivo, 'r') as arquivo:\n",
    "                dados_csv = csv.reader(arquivo, delimiter=';')\n",
    "                next(dados_csv)\n",
    "                dados_lista = [linha[0:4] for linha in dados_csv]\n",
    "                data = [i[0].strip() for i in dados_lista]\n",
    "                horario = [i[1].strip() for i in dados_lista]\n",
    "                condutividade = [float(i[2].strip().replace(',', '.')) for i in dados_lista]\n",
    "                temperatura = [float(i[3].strip().replace(',', '.')) for i in dados_lista]\n",
    "                arquivo.close()\n",
    "            dados_do_eletrodo = {'data': data,\n",
    "                                'horario': horario,\n",
    "                                'condutividade': condutividade,\n",
    "                                'temperatura': temperatura}\n",
    "            dados_do_eletrodo['numero_de_registros'] = len(condutividade)\n",
    "            t0 = datetime.strptime(f'{data[0]} {horario[0]}', '%d/%m/%Y %H:%M:%S')\n",
    "            t1 = datetime.strptime(f'{data[1]} {horario[1]}', '%d/%m/%Y %H:%M:%S')\n",
    "            t = t1 - t0\n",
    "            dados_do_eletrodo['intervalo'] = t.seconds\n",
    "            dados_do_eletrodo['tempo'] = list(range(0,\n",
    "                                                    dados_do_eletrodo['intervalo'] * dados_do_eletrodo['numero_de_registros'],\n",
    "                                                    dados_do_eletrodo['intervalo']))\n",
    "            dados_do_eletrodo['limites_condutividade'] = (condutividade[0], condutividade[-1])\n",
    "            c0, cinf = dados_do_eletrodo['limites_condutividade']\n",
    "            dados_do_eletrodo['condutividade_normalizada'] = [(c - c0) / (cinf - c0) for c in condutividade]\n",
    "            if tempo_morto:\n",
    "                dados_do_eletrodo['tempo'], dados_do_eletrodo['condutividade_normalizada'] = remover_tempo_morto(dados_do_eletrodo)\n",
    "            dados_do_caso[eletrodo] = dados_do_eletrodo\n",
    "        dados_do_caso['logaritmo_da_variancia'] = logaritmo_da_variancia(dados_do_caso)\n",
    "        dados_dos_casos[caso] = dados_do_caso\n",
    "    return dados_dos_casos\n",
    "\n",
    "def exportar_dados(dados_dos_casos):\n",
    "    for dados_key, dados_value in dados_dos_casos.items():\n",
    "        for casos_key, casos_value in dados_value.items():\n",
    "            prefixo_eletrodo = re.search('caso_\\d+_', dados_key).group()\n",
    "            if casos_key.startswith('logaritmo'):\n",
    "                nome_do_arquivo = f'dados_do_condutivimetro/{dados_key}/{prefixo_eletrodo}logaritmo_da_variancia.dat'\n",
    "                with open(nome_do_arquivo, 'w') as arquivo:\n",
    "                    pontos, log_var = casos_value\n",
    "                    for p, lv in zip(pontos, log_var):\n",
    "                        linha = f'{p:d} {lv:.6f}\\n'\n",
    "                        if 'inf' in linha:\n",
    "                            continue\n",
    "                        arquivo.write(linha)\n",
    "                    arquivo.close\n",
    "            else:\n",
    "                nome_do_arquivo = f'dados_do_condutivimetro/{dados_key}/{prefixo_eletrodo}{casos_key}.dat'\n",
    "                with open(nome_do_arquivo, 'w') as arquivo:\n",
    "                    tempo = casos_value['tempo']\n",
    "                    condutividade_normalizada = casos_value['condutividade_normalizada']\n",
    "                    for t, cn in zip(tempo, condutividade_normalizada):\n",
    "                        linha = f'{t:d} {cn:.6f}\\n'\n",
    "                        arquivo.write(linha)\n",
    "                    arquivo.close\n"
   ]
  },
  {
   "cell_type": "code",
   "execution_count": 354,
   "metadata": {},
   "outputs": [
    {
     "name": "stderr",
     "output_type": "stream",
     "text": [
      "C:\\Users\\Gilberto\\AppData\\Local\\Temp\\ipykernel_11984\\366863850.py:19: RuntimeWarning: divide by zero encountered in log10\n",
      "  log_var = list(np.log10(np.mean(np.array(log_var), axis=0)))\n"
     ]
    }
   ],
   "source": [
    "casos = ['caso_1_N_200rpm_beta_0', 'caso_2_N_600rpm_beta_0', 'caso_3_N_600rpm_beta_15', 'caso_4_N_600rpm_beta_0']\n",
    "eletrodos = ['eletrodo_1_fundo', 'eletrodo_2_topo']\n",
    "dados = obter_dados(casos, eletrodos, True)\n",
    "# t = dados[casos[0]][eletrodos[0]]['condutividade_normalizada_corrigida']\n",
    "# print(len(t), t)\n",
    "exportar_dados(dados)"
   ]
  }
 ],
 "metadata": {
  "kernelspec": {
   "display_name": "Python 3",
   "language": "python",
   "name": "python3"
  },
  "language_info": {
   "codemirror_mode": {
    "name": "ipython",
    "version": 3
   },
   "file_extension": ".py",
   "mimetype": "text/x-python",
   "name": "python",
   "nbconvert_exporter": "python",
   "pygments_lexer": "ipython3",
   "version": "3.10.6"
  },
  "orig_nbformat": 4
 },
 "nbformat": 4,
 "nbformat_minor": 2
}
