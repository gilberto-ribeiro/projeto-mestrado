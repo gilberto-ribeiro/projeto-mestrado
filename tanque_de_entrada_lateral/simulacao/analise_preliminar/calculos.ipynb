{
 "cells": [
  {
   "cell_type": "code",
   "execution_count": 2,
   "metadata": {},
   "outputs": [],
   "source": [
    "import numpy as np"
   ]
  },
  {
   "cell_type": "code",
   "execution_count": 3,
   "metadata": {},
   "outputs": [],
   "source": [
    "casos = {\n",
    "    'N200_beta15': {\n",
    "        'eletrodo_1': {\n",
    "            'velocidades': (0.015578211, -0.012566455, 0.0090824538, -0.0015079512)\n",
    "        },\n",
    "        'eletrodo_2': {\n",
    "            'velocidades': (0.0095665244, -0.0079667909, -0.0014759166, 0.0050862855)\n",
    "        }\n",
    "    },\n",
    "    'N600_beta0': {\n",
    "        'eletrodo_1': {\n",
    "            'velocidades': (0.01183136, -0.0097901233, -0.0061479641, -0.0025173581)\n",
    "        },\n",
    "        'eletrodo_2': {\n",
    "            'velocidades': (0.046414619, 0.036139506, 0.012911756, 0.026106312)\n",
    "        }\n",
    "    },\n",
    "    'N200_beta0': {\n",
    "        'eletrodo_1': {\n",
    "            'velocidades': (0.003791109, -0.0028508063, -0.0023858694, -0.00074366541)\n",
    "        },\n",
    "        'eletrodo_2': {\n",
    "            'velocidades': (0.016088244, 0.01273984, 0.0050213991, 0.0084447394)\n",
    "        }\n",
    "    },\n",
    "}"
   ]
  },
  {
   "cell_type": "code",
   "execution_count": 4,
   "metadata": {},
   "outputs": [],
   "source": [
    "def divisao(caso1, caso2):\n",
    "    div_el_1 = np.array(casos[caso1]['eletrodo_1']['velocidades']) / np.array(casos[caso2]['eletrodo_1']['velocidades'])\n",
    "    div_el_2 = np.array(casos[caso1]['eletrodo_2']['velocidades']) / np.array(casos[caso2]['eletrodo_2']['velocidades'])\n",
    "    return div_el_1, div_el_2"
   ]
  },
  {
   "cell_type": "code",
   "execution_count": 7,
   "metadata": {},
   "outputs": [
    {
     "name": "stdout",
     "output_type": "stream",
     "text": [
      "2.9876722060548544\n"
     ]
    }
   ],
   "source": [
    "d1, d2 = divisao('N600_beta0', 'N200_beta0')\n",
    "print((np.mean(d1) + np.mean(d2))/2)"
   ]
  }
 ],
 "metadata": {
  "kernelspec": {
   "display_name": "Python 3",
   "language": "python",
   "name": "python3"
  },
  "language_info": {
   "codemirror_mode": {
    "name": "ipython",
    "version": 3
   },
   "file_extension": ".py",
   "mimetype": "text/x-python",
   "name": "python",
   "nbconvert_exporter": "python",
   "pygments_lexer": "ipython3",
   "version": "3.11.3"
  },
  "orig_nbformat": 4
 },
 "nbformat": 4,
 "nbformat_minor": 2
}
